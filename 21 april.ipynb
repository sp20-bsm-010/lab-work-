{
 "cells": [
  {
   "cell_type": "code",
   "execution_count": 5,
   "id": "75a18590",
   "metadata": {},
   "outputs": [
    {
     "name": "stdout",
     "output_type": "stream",
     "text": [
      "\t f'(x)\t\t err\t\t f''(x)\t\t err\n"
     ]
    }
   ],
   "source": [
    "import numpy as np\n",
    "f = lambda x: 0.1*x**5 - 0.2*x**3 + 0.1*x -0.2\n",
    "\n",
    "x = 0.1\n",
    "h = 0.1\n",
    "\n",
    "df1 = 0.09405\n",
    "df2 = -0.118\n",
    "\n",
    "\n",
    "print(\"\\t f'(x)\\t\\t err\\t\\t f''(x)\\t\\t err\")"
   ]
  },
  {
   "cell_type": "code",
   "execution_count": 6,
   "id": "2d84f16b",
   "metadata": {},
   "outputs": [
    {
     "name": "stdout",
     "output_type": "stream",
     "text": [
      "FFD\t 0.086310\t-0.007740\t-0.222000\t-0.104000\n"
     ]
    }
   ],
   "source": [
    "# forward difference\n",
    "\n",
    "dff1 = (f(x+h)  -  f(x))/h\n",
    "dff2 = (f(x+2*h) - 2*f(x+h) + f(x))/h**2\n",
    "print(\"FFD\\t% f\\t% f\\t% f\\t% f\"%(dff1,dff1-df1,dff2,dff2-df2))\n"
   ]
  },
  {
   "cell_type": "code",
   "execution_count": 7,
   "id": "e49f934b",
   "metadata": {},
   "outputs": [
    {
     "name": "stdout",
     "output_type": "stream",
     "text": [
      "BFD\t 0.098010\t 0.003960\t 0.000000\t 0.118000\n"
     ]
    }
   ],
   "source": [
    "# backward difference\n",
    "\n",
    "dff1 = (f(x) - f(x-h))/h\n",
    "dff2 = (f(x) - 2*f(x-h) + f(x-2*h) )/h**2\n",
    "print(\"BFD\\t% f\\t% f\\t% f\\t% f\"%(dff1,dff1-df1,dff2,dff2-df2))\n"
   ]
  },
  {
   "cell_type": "code",
   "execution_count": 8,
   "id": "088d9880",
   "metadata": {},
   "outputs": [
    {
     "name": "stdout",
     "output_type": "stream",
     "text": [
      "CFD\t 0.092160\t-0.001890\t-0.117000\t 0.001000\n"
     ]
    }
   ],
   "source": [
    "#  central differences\n",
    "\n",
    "dff1 = (f(x+h) - f(x-h))/(2*h)\n",
    "dff2 = (f(x+h) -  2*f(x) + f(x-h))/h**2\n",
    "print(\"CFD\\t% f\\t% f\\t% f\\t% f\"%(dff1,dff1-df1,dff2,dff2-df2))\n",
    "\n",
    "\n"
   ]
  },
  {
   "cell_type": "code",
   "execution_count": 9,
   "id": "5d0c7dca",
   "metadata": {},
   "outputs": [
    {
     "name": "stdout",
     "output_type": "stream",
     "text": [
      "\t f'(x)\t\t err\t\t f''(x)\t\t err\n",
      "FFD\t 0.086310\t-0.007740\t-0.222000\t-0.104000\n",
      "BFD\t 0.098010\t 0.003960\t 0.000000\t 0.118000\n",
      "CFD\t 0.092160\t-0.001890\t-0.117000\t 0.001000\n"
     ]
    }
   ],
   "source": [
    "import numpy as np\n",
    "f = lambda x: 0.1*x**5 - 0.2*x**3 + 0.1*x -0.2\n",
    "\n",
    "x = 0.1\n",
    "h = 0.1\n",
    "\n",
    "df1 = 0.09405\n",
    "df2 = -0.118\n",
    "\n",
    "\n",
    "print(\"\\t f'(x)\\t\\t err\\t\\t f''(x)\\t\\t err\")\n",
    "\n",
    "# forward difference\n",
    "\n",
    "dff1 = (f(x+h)  -  f(x))/h\n",
    "dff2 = (f(x+2*h) - 2*f(x+h) + f(x))/h**2\n",
    "print(\"FFD\\t% f\\t% f\\t% f\\t% f\"%(dff1,dff1-df1,dff2,dff2-df2))\n",
    "\n",
    "# backward difference\n",
    "\n",
    "dff1 = (f(x) - f(x-h))/h\n",
    "dff2 = (f(x) - 2*f(x-h) + f(x-2*h) )/h**2\n",
    "print(\"BFD\\t% f\\t% f\\t% f\\t% f\"%(dff1,dff1-df1,dff2,dff2-df2))\n",
    "\n",
    "#  central differences\n",
    "\n",
    "dff1 = (f(x+h) - f(x-h))/(2*h)\n",
    "dff2 = (f(x+h) -  2*f(x) + f(x-h))/h**2\n",
    "print(\"CFD\\t% f\\t% f\\t% f\\t% f\"%(dff1,dff1-df1,dff2,dff2-df2))\n",
    "\n",
    "\n"
   ]
  },
  {
   "cell_type": "code",
   "execution_count": null,
   "id": "a77a68ab",
   "metadata": {},
   "outputs": [],
   "source": []
  },
  {
   "cell_type": "code",
   "execution_count": null,
   "id": "79e2c5b8",
   "metadata": {},
   "outputs": [],
   "source": []
  },
  {
   "cell_type": "code",
   "execution_count": null,
   "id": "45de24d3",
   "metadata": {},
   "outputs": [],
   "source": []
  },
  {
   "cell_type": "code",
   "execution_count": null,
   "id": "0f5e044c",
   "metadata": {},
   "outputs": [],
   "source": []
  },
  {
   "cell_type": "code",
   "execution_count": null,
   "id": "1e873826",
   "metadata": {},
   "outputs": [],
   "source": []
  },
  {
   "cell_type": "code",
   "execution_count": null,
   "id": "f6f26acb",
   "metadata": {},
   "outputs": [],
   "source": []
  },
  {
   "cell_type": "code",
   "execution_count": null,
   "id": "fff29ee5",
   "metadata": {},
   "outputs": [],
   "source": []
  },
  {
   "cell_type": "code",
   "execution_count": null,
   "id": "78c32a3e",
   "metadata": {},
   "outputs": [],
   "source": []
  },
  {
   "cell_type": "code",
   "execution_count": null,
   "id": "933e18a2",
   "metadata": {},
   "outputs": [],
   "source": []
  },
  {
   "cell_type": "code",
   "execution_count": null,
   "id": "3295bac5",
   "metadata": {},
   "outputs": [],
   "source": []
  },
  {
   "cell_type": "code",
   "execution_count": null,
   "id": "52e08e0e",
   "metadata": {},
   "outputs": [],
   "source": []
  },
  {
   "cell_type": "code",
   "execution_count": null,
   "id": "67d7fcc8",
   "metadata": {},
   "outputs": [],
   "source": []
  },
  {
   "cell_type": "code",
   "execution_count": null,
   "id": "90d8338e",
   "metadata": {},
   "outputs": [],
   "source": []
  },
  {
   "cell_type": "code",
   "execution_count": null,
   "id": "6d0b8da2",
   "metadata": {},
   "outputs": [],
   "source": []
  },
  {
   "cell_type": "code",
   "execution_count": null,
   "id": "01348cd9",
   "metadata": {},
   "outputs": [],
   "source": []
  },
  {
   "cell_type": "code",
   "execution_count": null,
   "id": "e47b57a6",
   "metadata": {},
   "outputs": [],
   "source": []
  },
  {
   "cell_type": "code",
   "execution_count": null,
   "id": "16274ac5",
   "metadata": {},
   "outputs": [],
   "source": []
  },
  {
   "cell_type": "code",
   "execution_count": null,
   "id": "6e1019fb",
   "metadata": {},
   "outputs": [],
   "source": []
  },
  {
   "cell_type": "code",
   "execution_count": null,
   "id": "dc0f6409",
   "metadata": {},
   "outputs": [],
   "source": []
  },
  {
   "cell_type": "code",
   "execution_count": null,
   "id": "d1f32e41",
   "metadata": {},
   "outputs": [],
   "source": []
  },
  {
   "cell_type": "code",
   "execution_count": null,
   "id": "fc70aa22",
   "metadata": {},
   "outputs": [],
   "source": []
  },
  {
   "cell_type": "code",
   "execution_count": null,
   "id": "aff43955",
   "metadata": {},
   "outputs": [],
   "source": []
  },
  {
   "cell_type": "code",
   "execution_count": null,
   "id": "f779bccd",
   "metadata": {},
   "outputs": [],
   "source": []
  },
  {
   "cell_type": "code",
   "execution_count": null,
   "id": "9f14aaf5",
   "metadata": {},
   "outputs": [],
   "source": []
  },
  {
   "cell_type": "code",
   "execution_count": null,
   "id": "01a4897e",
   "metadata": {},
   "outputs": [],
   "source": []
  },
  {
   "cell_type": "code",
   "execution_count": null,
   "id": "4b4e9682",
   "metadata": {},
   "outputs": [],
   "source": []
  },
  {
   "cell_type": "code",
   "execution_count": null,
   "id": "56784b97",
   "metadata": {},
   "outputs": [],
   "source": []
  }
 ],
 "metadata": {
  "kernelspec": {
   "display_name": "Python 3 (ipykernel)",
   "language": "python",
   "name": "python3"
  },
  "language_info": {
   "codemirror_mode": {
    "name": "ipython",
    "version": 3
   },
   "file_extension": ".py",
   "mimetype": "text/x-python",
   "name": "python",
   "nbconvert_exporter": "python",
   "pygments_lexer": "ipython3",
   "version": "3.9.7"
  }
 },
 "nbformat": 4,
 "nbformat_minor": 5
}
