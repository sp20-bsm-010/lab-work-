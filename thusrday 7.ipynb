{
 "cells": [
  {
   "cell_type": "code",
   "execution_count": 23,
   "id": "4a69f2c6",
   "metadata": {},
   "outputs": [
    {
     "name": "stdout",
     "output_type": "stream",
     "text": [
      "True\n",
      "False\n",
      "<class 'bool'>\n",
      "True\n",
      "False\n",
      "False\n",
      "False\n",
      "True\n",
      "True\n",
      "False\n",
      "True\n",
      "False\n",
      "True\n",
      "True\n",
      "True\n",
      "True\n",
      "True\n"
     ]
    }
   ],
   "source": [
    "t = True\n",
    "f = False\n",
    "c = t and t\n",
    "d = f or f\n",
    "print(c)\n",
    "print(d)\n",
    "print(type(t))\n",
    "print(t and t)\n",
    "print(t and f)\n",
    "print(f and t)\n",
    "print(f and f)\n",
    "print(t or t)\n",
    "print(t or f)\n",
    "print(f and f)\n",
    "print(f or t)\n",
    "print(not t)\n",
    "print(t != f)\n",
    "print(t and t or f)\n",
    "print(t and t and t)\n",
    "print(t or not f)\n",
    "print(t and t or f)\n"
   ]
  },
  {
   "cell_type": "code",
   "execution_count": 42,
   "id": "f9ef7021",
   "metadata": {},
   "outputs": [
    {
     "name": "stdout",
     "output_type": "stream",
     "text": [
      "[0, 1, 2, 3, 4]\n",
      "[2, 3]\n",
      "[2, 3, 4]\n",
      "[0, 1]\n",
      "[0, 1, 2, 3, 4]\n",
      "[0, 1, 2, 3]\n",
      "[0, 1, 8, 10, 4]\n",
      "[0, 100, 500, 888, 4]\n",
      "[0, 9, 500, 888, 4]\n",
      "[0, 9, 7, 888, 4]\n"
     ]
    }
   ],
   "source": [
    "nums = list(range(5)) # range of the list\n",
    "print(nums)           # prints nums \n",
    "print(nums[2:4])      # we will get num between 2 and 44 \n",
    "print(nums[2:])       # we will num get after 2\n",
    "print(nums[:2])       # we will get num before 2\n",
    "print(nums[:])        # we will get all num\n",
    "print(nums[:-1])      # we will get num with a one substraction\n",
    "nums[2:4] = [8, 10]   # the numbers between 2 and 4 will get excahnge\n",
    "print(nums)\n",
    "nums[1:4]= [100, 500, 888]\n",
    "print(nums)\n",
    "nums[1:2:3] = [9]\n",
    "print(nums)\n",
    "nums[2:3:4] = [7]\n",
    "print(nums)"
   ]
  },
  {
   "cell_type": "code",
   "execution_count": null,
   "id": "03785005",
   "metadata": {},
   "outputs": [],
   "source": []
  },
  {
   "cell_type": "code",
   "execution_count": null,
   "id": "84529aea",
   "metadata": {},
   "outputs": [],
   "source": []
  },
  {
   "cell_type": "code",
   "execution_count": null,
   "id": "2c39a7f2",
   "metadata": {},
   "outputs": [],
   "source": []
  },
  {
   "cell_type": "code",
   "execution_count": null,
   "id": "b4013efe",
   "metadata": {},
   "outputs": [],
   "source": []
  },
  {
   "cell_type": "code",
   "execution_count": null,
   "id": "8119f3f7",
   "metadata": {},
   "outputs": [],
   "source": []
  },
  {
   "cell_type": "code",
   "execution_count": null,
   "id": "c4b25833",
   "metadata": {},
   "outputs": [],
   "source": []
  },
  {
   "cell_type": "code",
   "execution_count": null,
   "id": "5a51c7d4",
   "metadata": {},
   "outputs": [],
   "source": []
  },
  {
   "cell_type": "code",
   "execution_count": null,
   "id": "3a5174be",
   "metadata": {},
   "outputs": [],
   "source": []
  },
  {
   "cell_type": "code",
   "execution_count": null,
   "id": "148f545c",
   "metadata": {},
   "outputs": [],
   "source": []
  }
 ],
 "metadata": {
  "kernelspec": {
   "display_name": "Python 3",
   "language": "python",
   "name": "python3"
  },
  "language_info": {
   "codemirror_mode": {
    "name": "ipython",
    "version": 3
   },
   "file_extension": ".py",
   "mimetype": "text/x-python",
   "name": "python",
   "nbconvert_exporter": "python",
   "pygments_lexer": "ipython3",
   "version": "3.8.8"
  }
 },
 "nbformat": 4,
 "nbformat_minor": 5
}
