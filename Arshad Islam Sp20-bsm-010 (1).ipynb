{
 "cells": [
  {
   "cell_type": "markdown",
   "id": "617b2a28",
   "metadata": {},
   "source": [
    "# Numerical Methods Mid term Paper \n",
    "\n",
    "## Total Marks : 25"
   ]
  },
  {
   "cell_type": "markdown",
   "id": "9df30db7",
   "metadata": {},
   "source": [
    "# Question #1 \n",
    "\n",
    "Convert the following algorithms into python by using functions and then solve the following problem\n",
    "\n",
    "Find the roots of the following equation\n",
    "\n",
    "$2x^2 - 5x + 3 = 0$  analytical roots are $x = 1.5,1$"
   ]
  },
  {
   "cell_type": "markdown",
   "id": "6fc01e0b",
   "metadata": {},
   "source": [
    "## Algorithm 1 (Secant Method)\n",
    "\n",
    "1. Input two values for $x_1$ and $x_2$\n",
    "2. Calculate $x_{new} = x_2 - \\frac{x_2-x_1}{f(x_2)-f(x_1)}f(x_2)$\n",
    "3. If $|x_{new} - x_2| < tolerance$ , output $x_{new}$ the root and stop\n",
    "4. If number of iterations reaches the maximum, stop.\n",
    "5. Else let $x_1=x_2$ and $x_2=x_{new}$\n",
    "6. Repeat the steps from 2"
   ]
  },
  {
   "cell_type": "markdown",
   "id": "45622d33",
   "metadata": {},
   "source": [
    "# Algorithm 2 (Newton's Methd)\n",
    "\n",
    "\n",
    "1. Find $f'(x)$ and define newton's raphson equation\n",
    "2. Guess an initial value of x for the first iteration\n",
    "3. substitute x in the NR equation and calculate $x^*$\n",
    "4. if $|x^*-x|<tolerance$, stop iterations and output the root: $x^*$\n",
    "5. if the number of interations reaches an assumed maximum, stop.\n",
    "6. else let $x=x^*$ and repeat the steps from 3 until a condition in 4 or 5 is satisfied."
   ]
  },
  {
   "cell_type": "markdown",
   "id": "f2e7376a",
   "metadata": {},
   "source": [
    "##### Question # 2\n",
    "\n",
    "Plot the first derivative of the following function over $[-1,1]$ by using the forward, backward and central differences.\n",
    "\n",
    "Compare the plots with the theoretical one at $h = 0.1, 0.01$ and $0.001$\n",
    "\n",
    "$f(x) = 0.1x^5 - 0.2x^3 + 0.1x - 0.2$\n",
    "\n",
    "Theoretical :\n",
    "\n",
    "$f'(x) = 0.5x^4 - 0.6x^2 + 0.1$\n",
    "\n",
    "**Formulas are given for reference**\n",
    "\n",
    "**FORWARD FINITE DIFFERENCES**\n",
    "\n",
    "$f'(x) = \\frac{f(x_{i+1})-f(x_i)}{h}$\n",
    "\n",
    "$f''(x) = \\frac{f(x_{i+2})-2f(x_{i+1})+f(x_i)}{h^2}$\n",
    "\n",
    "**BACKWARD FINITE DIFFERENCES**\n",
    "\n",
    "$f'(x) = \\frac{f(x_{i}-f(x_i))}{h}$\n",
    "\n",
    "$f''(x) = \\frac{f(x_{i})-2f(x_{i-1})+f(x_{i-2})}{h^2}$\n",
    "\n",
    "**CENTRAL FINITE DIFFERENCES**\n",
    "\n",
    "$f'(x) = \\frac{f(x_{i+1})-f(x_{i-1})}{2h}$\n",
    "\n",
    "$f''(x) = \\frac{f(x_{i+1})-2f(x_i)+f(x_{i-1})}{h^2}$\n"
   ]
  },
  {
   "cell_type": "markdown",
   "id": "96698994",
   "metadata": {},
   "source": [
    "def secant function 2*x**2-5*x+3=0  analytical roots are x=1.5,1\n"
   ]
  },
  {
   "cell_type": "code",
   "execution_count": null,
   "id": "29e99415",
   "metadata": {},
   "outputs": [],
   "source": [
    "from math import sin     \n",
    "def secant(fn,x1,x2,tol,maxiter):     \n",
    "    for i in range(maxiter):    \n",
    "        \n",
    "        xnew  = x2 - (x2-x1)/(fn(x2)-fn(x1))*fn(x2)    \n",
    "        if abs(xnew-x2) < tol:     \n",
    "            break     \n",
    "        else:\n",
    "            x1 = x2    \n",
    "            x2 = xnew  \n",
    "    else:\n",
    "        print('warning: Maximum number of iterations is reached')\n",
    "    return xnew, i   \n",
    "\n",
    "f = lambda x: 2*x**2 - 5*x + 3    \n",
    "\n",
    "x1 = float(input('enter x1: '))   \n",
    "x2 = float(input('enter x2: '))     \n",
    "\n",
    "r, n = secant(f,x1,x2,1.0e-6,100)    \n",
    "\n",
    "print('Root = %f at %d iterations'%(r,n))"
   ]
  },
  {
   "cell_type": "code",
   "execution_count": 26,
   "id": "eb2c46a2",
   "metadata": {},
   "outputs": [
    {
     "data": {
      "text/plain": [
       "Text(0, 0.5, 'Y-axis')"
      ]
     },
     "execution_count": 26,
     "metadata": {},
     "output_type": "execute_result"
    },
    {
     "data": {
      "image/png": "[encoded data removed]",
      "text/plain": [
       "<Figure size 432x288 with 1 Axes>"
      ]
     },
     "metadata": {
      "needs_background": "light"
     },
     "output_type": "display_data"
    }
   ],
   "source": [
    "import numpy as np\n",
    "import matplotlib.pyplot as plt\n",
    "import math as mt\n",
    "\n",
    "x = np.linspace(10,50,100)\n",
    "y = 2*x**2 - 5*x + 3\n",
    "dy = 4*x -5\n",
    "plt.plot(x,y,dy)\n",
    "plt.xlabel('X-axis')\n",
    "plt.ylabel('Y-axis')"
   ]
  },
  {
   "cell_type": "code",
   "execution_count": null,
   "id": "c2ec8774",
   "metadata": {},
   "outputs": [],
   "source": [
    "from math import sin,cos     \n",
    "def newton(fn,dfn,x,tol,maxiter):    \n",
    "    for i in range(maxiter):   \n",
    "        xnew = x - fn(x)/dfn(x)   xnew result\n",
    "        if abs(xnew-x)<tol: imcase  condition is not satisfied it will break                         \n",
    "            break    \n",
    "        x = xnew    \n",
    "    return xnew, i\n",
    "\n",
    "y = lambda x:   2*x**2 - 5*x + 3     \n",
    "dy = lambda x : 4*x-5     \n",
    "\n",
    "x, n = newton(y, dy, 1.5, 0.0001, 100)    \n",
    "print('the root is %.3f at %d iterations.'%(x,n))"
   ]
  },
  {
   "cell_type": "code",
   "execution_count": null,
   "id": "e2a69ed8",
   "metadata": {},
   "outputs": [],
   "source": []
  },
  {
   "cell_type": "code",
   "execution_count": 20,
   "id": "90fce616",
   "metadata": {},
   "outputs": [
    {
     "name": "stdout",
     "output_type": "stream",
     "text": [
      "\t f'(x)\t\t err\t\t f''(x)\t\t err\n",
      "FFD\t 0.08631000\t-0.00774000\t-0.22200000\t-0.10400000\n",
      "BFD\t 0.09801000\t 0.00396000\t 0.00000000\t 0.11800000\n",
      "CFD\t 0.092160\t-0.001890\t-0.117000\t 0.001000\n"
     ]
    }
   ],
   "source": [
    "f=lambda x: 0.1*x**5 - 0.2*x**3 + 0.1*x - 0.2\n",
    "x = 0.1\n",
    "h = 0.1\n",
    "df1 = 0.09405\n",
    "df2 = -0.118\n",
    "print(\"\\t f'(x)\\t\\t err\\t\\t f''(x)\\t\\t err\")\n",
    "dff1 = (f(x+h)-f(x))/h\n",
    "dff2 = (f(x+2*h)-2*f(x+h)+f(x))/h**2\n",
    "print(\"FFD\\t% .8f\\t% .8f\\t% .8f\\t% .8f\"%(dff1,dff1-df1,dff2,dff2-df2))\n",
    "dff1 = (f(x)-f(x-h))/h\n",
    "dff2 = (f(x)-2*f(x-h)+f(x-2*h))/h**2\n",
    "print(\"BFD\\t% .8f\\t% .8f\\t% .8f\\t% .8f\"%(dff1,dff1-df1,dff2,dff2-df2))\n",
    "dff1 = (f(x+h)-f(x-h))/(2*h)\n",
    "dff2 = (f(x+h)-2*f(x)+f(x-h))/h**2\n",
    "print(\"CFD\\t% f\\t% f\\t% f\\t% f\"%(dff1,dff1-df1,dff2,dff2-df2))"
   ]
  },
  {
   "cell_type": "code",
   "execution_count": 12,
   "id": "a5a5b2de",
   "metadata": {},
   "outputs": [
    {
     "data": {
      "image/png": "[encoded data removed]",
      "text/plain": [
       "<Figure size 432x288 with 1 Axes>"
      ]
     },
     "metadata": {
      "needs_background": "light"
     },
     "output_type": "display_data"
    }
   ],
   "source": [
    "import numpy as np\n",
    "import matplotlib.pyplot as plt\n",
    "f=lambda x: 0.1*x**5 - 0.2*x**3 + 0.1*x - 0.2\n",
    "\n",
    "h = 0.01\n",
    "\n",
    "x = np.linspace(-1,1,50)\n",
    " \n",
    "\n",
    "\n",
    "dff1 = (f(x+h)-f(x-h))/(2*h)\n",
    "dff2 = (f(x+h)-2*f(x)+f(x-h))/h**2\n",
    "#plot\n",
    "plt.plot(x,f(x),'-k',x,dff1,'--b',x,dff2,'-.r')\n",
    "plt.xlabel('x')\n",
    "plt.ylabel('y')\n",
    "plt.legend([\"f(x)\",\"f'(x)\",\"f''(x)\"])\n",
    "plt.grid()\n",
    "\n"
   ]
  },
  {
   "cell_type": "code",
   "execution_count": 17,
   "id": "d41575a2",
   "metadata": {},
   "outputs": [
    {
     "name": "stdout",
     "output_type": "stream",
     "text": [
      "\t f'(x)\t\t err\t\t f''(x)\t\t err\n",
      "FFD\t 0.09399081\t-0.00005919\t-0.11913930\t-0.00113930\n",
      "BFD\t 0.09410881\t 0.00005881\t-0.11685930\t 0.00114070\n",
      "CFD\t 0.09404981\t-0.00000019\t-0.11799990\t 0.00000010\n"
     ]
    }
   ],
   "source": [
    "f=lambda x: 0.1*x**5 - 0.2*x**3 + 0.1*x - 0.2\n",
    "x = 0.1\n",
    "h = 0.001\n",
    "df1 = 0.09405\n",
    "df2 = -0.118\n",
    "print(\"\\t f'(x)\\t\\t err\\t\\t f''(x)\\t\\t err\")\n",
    "dff1 = (f(x+h)-f(x))/h\n",
    "dff2 = (f(x+2*h)-2*f(x+h)+f(x))/h**2\n",
    "print(\"FFD\\t% .8f\\t% .8f\\t% .8f\\t% .8f\"%(dff1,dff1-df1,dff2,dff2-df2))\n",
    "dff1 = (f(x)-f(x-h))/h\n",
    "dff2 = (f(x)-2*f(x-h)+f(x-2*h))/h**2\n",
    "print(\"BFD\\t% .8f\\t% .8f\\t% .8f\\t% .8f\"%(dff1,dff1-df1,dff2,dff2-df2))\n",
    "dff1 = (f(x+h)-f(x-h))/(2*h)\n",
    "dff2 = (f(x+h)-2*f(x)+f(x-h))/h**2\n",
    "print(\"CFD\\t% .8f\\t% .8f\\t% .8f\\t% .8f\"%(dff1,dff1-df1,dff2,dff2-df2))\n"
   ]
  },
  {
   "cell_type": "code",
   "execution_count": 13,
   "id": "6cba6a9a",
   "metadata": {},
   "outputs": [
    {
     "data": {
      "image/png": "[encoded data removed]",
      "text/plain": [
       "<Figure size 432x288 with 1 Axes>"
      ]
     },
     "metadata": {
      "needs_background": "light"
     },
     "output_type": "display_data"
    }
   ],
   "source": [
    "h = 0.01\n",
    "f=lambda x: 0.1*x**5 - 0.2*x**3 + 0.1*x - 0.2\n",
    "x = np.linspace(-2,2,100)\n",
    "dff1 = (f(x+h)-f(x))/h \n",
    "dff2 = (f(x+2*h)-2*f(x+h)+f(x))/h**2\n",
    "\n",
    "plt.plot(x,f(x),'--k',x,dff1,'b',x,dff2,'-.r')\n",
    "plt.xlabel('x')\n",
    "plt.ylabel('y')\n",
    "plt.legend([\"f(x)\",\"f'(x)\",\"f''(x)\"])\n",
    "plt.grid()"
   ]
  },
  {
   "cell_type": "code",
   "execution_count": null,
   "id": "e61a7347",
   "metadata": {},
   "outputs": [],
   "source": []
  },
  {
   "cell_type": "code",
   "execution_count": null,
   "id": "0027d802",
   "metadata": {},
   "outputs": [],
   "source": []
  }
 ],
 "metadata": {
  "kernelspec": {
   "display_name": "Python 3 (ipykernel)",
   "language": "python",
   "name": "python3"
  },
  "language_info": {
   "codemirror_mode": {
    "name": "ipython",
    "version": 3
   },
   "file_extension": ".py",
   "mimetype": "text/x-python",
   "name": "python",
   "nbconvert_exporter": "python",
   "pygments_lexer": "ipython3",
   "version": "3.9.7"
  }
 },
 "nbformat": 4,
 "nbformat_minor": 5
}
