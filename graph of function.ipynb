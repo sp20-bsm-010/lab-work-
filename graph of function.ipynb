{
 "cells": [
  {
   "cell_type": "code",
   "execution_count": 1,
   "id": "83854a8d",
   "metadata": {},
   "outputs": [],
   "source": [
    "import numpy as np\n",
    "import matplotlib.pyplot as plt"
   ]
  },
  {
   "cell_type": "code",
   "execution_count": 33,
   "id": "484ee5f0",
   "metadata": {},
   "outputs": [],
   "source": [
    "f = lambda x:0.1*x**5-5*x**3+0.1*x-0.3"
   ]
  },
  {
   "cell_type": "code",
   "execution_count": 34,
   "id": "1858798b",
   "metadata": {},
   "outputs": [],
   "source": [
    "h = 0.01"
   ]
  },
  {
   "cell_type": "code",
   "execution_count": 35,
   "id": "8db6a9f8",
   "metadata": {},
   "outputs": [],
   "source": [
    "# will create an array of element between -1 and 1 having 50 equal \n",
    "x = np.linspace(-1,1,50)"
   ]
  },
  {
   "cell_type": "code",
   "execution_count": 36,
   "id": "f583da26",
   "metadata": {},
   "outputs": [],
   "source": [
    "#central difference"
   ]
  },
  {
   "cell_type": "code",
   "execution_count": 37,
   "id": "5aff0f18",
   "metadata": {},
   "outputs": [],
   "source": [
    "dff1 = (f(x+h) - f(x-h))/(2*h)"
   ]
  },
  {
   "cell_type": "code",
   "execution_count": 38,
   "id": "204d55e8",
   "metadata": {},
   "outputs": [],
   "source": [
    "dff2 = (f(x+h) - 2*f(x-h))/h**2"
   ]
  },
  {
   "cell_type": "code",
   "execution_count": 39,
   "id": "870bbcfe",
   "metadata": {},
   "outputs": [],
   "source": [
    "#plot"
   ]
  },
  {
   "cell_type": "code",
   "execution_count": 40,
   "id": "8ff600d0",
   "metadata": {},
   "outputs": [
    {
     "data": {
      "image/png": "[encoded data removed]",
      "text/plain": [
       "<Figure size 432x288 with 1 Axes>"
      ]
     },
     "metadata": {
      "needs_background": "light"
     },
     "output_type": "display_data"
    }
   ],
   "source": [
    "plt.plot(x,f(x),'-k',x,dff1,'--b',x,dff2,'-.r')\n",
    "plt.xlabel('x')\n",
    "plt.ylabel('y')\n",
    "\n",
    "plt.legend([\"f(x)\" \"f'(x)\", \"f''(x)\"])\n",
    "plt.grid()\n"
   ]
  },
  {
   "cell_type": "code",
   "execution_count": null,
   "id": "70aa7ff6",
   "metadata": {},
   "outputs": [],
   "source": []
  },
  {
   "cell_type": "code",
   "execution_count": null,
   "id": "5203bb79",
   "metadata": {},
   "outputs": [],
   "source": []
  }
 ],
 "metadata": {
  "kernelspec": {
   "display_name": "Python 3 (ipykernel)",
   "language": "python",
   "name": "python3"
  },
  "language_info": {
   "codemirror_mode": {
    "name": "ipython",
    "version": 3
   },
   "file_extension": ".py",
   "mimetype": "text/x-python",
   "name": "python",
   "nbconvert_exporter": "python",
   "pygments_lexer": "ipython3",
   "version": "3.9.7"
  }
 },
 "nbformat": 4,
 "nbformat_minor": 5
}
